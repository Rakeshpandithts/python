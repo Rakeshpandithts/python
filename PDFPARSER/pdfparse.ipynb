{
 "cells": [
  {
   "cell_type": "code",
   "execution_count": 1,
   "metadata": {},
   "outputs": [
    {
     "name": "stderr",
     "output_type": "stream",
     "text": [
      "2019-05-22 17:14:33,806 [MainThread  ] [INFO ]  Retrieving http://search.maven.org/remotecontent?filepath=org/apache/tika/tika-server/1.19/tika-server-1.19.jar to /tmp/tika-server.jar.\n",
      "2019-05-22 17:15:35,154 [MainThread  ] [INFO ]  Retrieving http://search.maven.org/remotecontent?filepath=org/apache/tika/tika-server/1.19/tika-server-1.19.jar.md5 to /tmp/tika-server.jar.md5.\n",
      "2019-05-22 17:15:36,011 [MainThread  ] [ERROR]  Unable to run java; is it installed?\n",
      "2019-05-22 17:15:36,014 [MainThread  ] [ERROR]  Failed to receive startup confirmation from startServer.\n"
     ]
    },
    {
     "ename": "RuntimeError",
     "evalue": "Unable to start Tika server.",
     "output_type": "error",
     "traceback": [
      "\u001b[0;31m---------------------------------------------------------------------------\u001b[0m",
      "\u001b[0;31mRuntimeError\u001b[0m                              Traceback (most recent call last)",
      "\u001b[0;32m<ipython-input-1-2aa5d66169ea>\u001b[0m in \u001b[0;36m<module>\u001b[0;34m\u001b[0m\n\u001b[1;32m      2\u001b[0m \u001b[0;32mfrom\u001b[0m \u001b[0mtika\u001b[0m \u001b[0;32mimport\u001b[0m \u001b[0mparser\u001b[0m\u001b[0;34m\u001b[0m\u001b[0;34m\u001b[0m\u001b[0m\n\u001b[1;32m      3\u001b[0m \u001b[0;34m\u001b[0m\u001b[0m\n\u001b[0;32m----> 4\u001b[0;31m \u001b[0mparsed\u001b[0m \u001b[0;34m=\u001b[0m \u001b[0mparser\u001b[0m\u001b[0;34m.\u001b[0m\u001b[0mfrom_file\u001b[0m\u001b[0;34m(\u001b[0m\u001b[0;34m\"swiggy-order-39803023548.pdf\"\u001b[0m\u001b[0;34m)\u001b[0m\u001b[0;34m\u001b[0m\u001b[0;34m\u001b[0m\u001b[0m\n\u001b[0m\u001b[1;32m      5\u001b[0m \u001b[0mprint\u001b[0m\u001b[0;34m(\u001b[0m\u001b[0mparsed\u001b[0m\u001b[0;34m)\u001b[0m\u001b[0;34m\u001b[0m\u001b[0;34m\u001b[0m\u001b[0m\n",
      "\u001b[0;32m~/code/python/PDFPARSER/env/lib/python3.6/site-packages/tika/parser.py\u001b[0m in \u001b[0;36mfrom_file\u001b[0;34m(filename, serverEndpoint, xmlContent, headers, config_path)\u001b[0m\n\u001b[1;32m     34\u001b[0m     '''\n\u001b[1;32m     35\u001b[0m     \u001b[0;32mif\u001b[0m \u001b[0;32mnot\u001b[0m \u001b[0mxmlContent\u001b[0m\u001b[0;34m:\u001b[0m\u001b[0;34m\u001b[0m\u001b[0;34m\u001b[0m\u001b[0m\n\u001b[0;32m---> 36\u001b[0;31m         \u001b[0mjsonOutput\u001b[0m \u001b[0;34m=\u001b[0m \u001b[0mparse1\u001b[0m\u001b[0;34m(\u001b[0m\u001b[0;34m'all'\u001b[0m\u001b[0;34m,\u001b[0m \u001b[0mfilename\u001b[0m\u001b[0;34m,\u001b[0m \u001b[0mserverEndpoint\u001b[0m\u001b[0;34m,\u001b[0m \u001b[0mheaders\u001b[0m\u001b[0;34m=\u001b[0m\u001b[0mheaders\u001b[0m\u001b[0;34m,\u001b[0m \u001b[0mconfig_path\u001b[0m\u001b[0;34m=\u001b[0m\u001b[0mconfig_path\u001b[0m\u001b[0;34m)\u001b[0m\u001b[0;34m\u001b[0m\u001b[0;34m\u001b[0m\u001b[0m\n\u001b[0m\u001b[1;32m     37\u001b[0m     \u001b[0;32melse\u001b[0m\u001b[0;34m:\u001b[0m\u001b[0;34m\u001b[0m\u001b[0;34m\u001b[0m\u001b[0m\n\u001b[1;32m     38\u001b[0m         jsonOutput = parse1('all', filename, serverEndpoint, services={'meta': '/meta', 'text': '/tika', 'all': '/rmeta/xml'},\n",
      "\u001b[0;32m~/code/python/PDFPARSER/env/lib/python3.6/site-packages/tika/tika.py\u001b[0m in \u001b[0;36mparse1\u001b[0;34m(option, urlOrPath, serverEndpoint, verbose, tikaServerJar, responseMimeType, services, rawResponse, headers, config_path)\u001b[0m\n\u001b[1;32m    326\u001b[0m     \u001b[0;32mif\u001b[0m \u001b[0mservice\u001b[0m \u001b[0;34m==\u001b[0m \u001b[0;34m'/tika'\u001b[0m\u001b[0;34m:\u001b[0m \u001b[0mresponseMimeType\u001b[0m \u001b[0;34m=\u001b[0m \u001b[0;34m'text/plain'\u001b[0m\u001b[0;34m\u001b[0m\u001b[0;34m\u001b[0m\u001b[0m\n\u001b[1;32m    327\u001b[0m     status, response = callServer('put', serverEndpoint, service, open(path, 'rb'),\n\u001b[0;32m--> 328\u001b[0;31m                                   headers, verbose, tikaServerJar, config_path=config_path, rawResponse=rawResponse)\n\u001b[0m\u001b[1;32m    329\u001b[0m \u001b[0;34m\u001b[0m\u001b[0m\n\u001b[1;32m    330\u001b[0m     \u001b[0;32mif\u001b[0m \u001b[0mfile_type\u001b[0m \u001b[0;34m==\u001b[0m \u001b[0;34m'remote'\u001b[0m\u001b[0;34m:\u001b[0m \u001b[0mos\u001b[0m\u001b[0;34m.\u001b[0m\u001b[0munlink\u001b[0m\u001b[0;34m(\u001b[0m\u001b[0mpath\u001b[0m\u001b[0;34m)\u001b[0m\u001b[0;34m\u001b[0m\u001b[0;34m\u001b[0m\u001b[0m\n",
      "\u001b[0;32m~/code/python/PDFPARSER/env/lib/python3.6/site-packages/tika/tika.py\u001b[0m in \u001b[0;36mcallServer\u001b[0;34m(verb, serverEndpoint, service, data, headers, verbose, tikaServerJar, httpVerbs, classpath, rawResponse, config_path)\u001b[0m\n\u001b[1;32m    520\u001b[0m     \u001b[0;32mglobal\u001b[0m \u001b[0mTikaClientOnly\u001b[0m\u001b[0;34m\u001b[0m\u001b[0;34m\u001b[0m\u001b[0m\n\u001b[1;32m    521\u001b[0m     \u001b[0;32mif\u001b[0m \u001b[0;32mnot\u001b[0m \u001b[0mTikaClientOnly\u001b[0m\u001b[0;34m:\u001b[0m\u001b[0;34m\u001b[0m\u001b[0;34m\u001b[0m\u001b[0m\n\u001b[0;32m--> 522\u001b[0;31m         \u001b[0mserverEndpoint\u001b[0m \u001b[0;34m=\u001b[0m \u001b[0mcheckTikaServer\u001b[0m\u001b[0;34m(\u001b[0m\u001b[0mscheme\u001b[0m\u001b[0;34m,\u001b[0m \u001b[0mserverHost\u001b[0m\u001b[0;34m,\u001b[0m \u001b[0mport\u001b[0m\u001b[0;34m,\u001b[0m \u001b[0mtikaServerJar\u001b[0m\u001b[0;34m,\u001b[0m \u001b[0mclasspath\u001b[0m\u001b[0;34m,\u001b[0m \u001b[0mconfig_path\u001b[0m\u001b[0;34m)\u001b[0m\u001b[0;34m\u001b[0m\u001b[0;34m\u001b[0m\u001b[0m\n\u001b[0m\u001b[1;32m    523\u001b[0m \u001b[0;34m\u001b[0m\u001b[0m\n\u001b[1;32m    524\u001b[0m     \u001b[0mserviceUrl\u001b[0m  \u001b[0;34m=\u001b[0m \u001b[0mserverEndpoint\u001b[0m \u001b[0;34m+\u001b[0m \u001b[0mservice\u001b[0m\u001b[0;34m\u001b[0m\u001b[0;34m\u001b[0m\u001b[0m\n",
      "\u001b[0;32m~/code/python/PDFPARSER/env/lib/python3.6/site-packages/tika/tika.py\u001b[0m in \u001b[0;36mcheckTikaServer\u001b[0;34m(scheme, serverHost, port, tikaServerJar, classpath, config_path)\u001b[0m\n\u001b[1;32m    578\u001b[0m             \u001b[0;32mif\u001b[0m \u001b[0;32mnot\u001b[0m \u001b[0mstatus\u001b[0m\u001b[0;34m:\u001b[0m\u001b[0;34m\u001b[0m\u001b[0;34m\u001b[0m\u001b[0m\n\u001b[1;32m    579\u001b[0m                 \u001b[0mlog\u001b[0m\u001b[0;34m.\u001b[0m\u001b[0merror\u001b[0m\u001b[0;34m(\u001b[0m\u001b[0;34m\"Failed to receive startup confirmation from startServer.\"\u001b[0m\u001b[0;34m)\u001b[0m\u001b[0;34m\u001b[0m\u001b[0;34m\u001b[0m\u001b[0m\n\u001b[0;32m--> 580\u001b[0;31m                 \u001b[0;32mraise\u001b[0m \u001b[0mRuntimeError\u001b[0m\u001b[0;34m(\u001b[0m\u001b[0;34m\"Unable to start Tika server.\"\u001b[0m\u001b[0;34m)\u001b[0m\u001b[0;34m\u001b[0m\u001b[0;34m\u001b[0m\u001b[0m\n\u001b[0m\u001b[1;32m    581\u001b[0m     \u001b[0;32mreturn\u001b[0m \u001b[0mserverEndpoint\u001b[0m\u001b[0;34m\u001b[0m\u001b[0;34m\u001b[0m\u001b[0m\n\u001b[1;32m    582\u001b[0m \u001b[0;34m\u001b[0m\u001b[0m\n",
      "\u001b[0;31mRuntimeError\u001b[0m: Unable to start Tika server."
     ]
    }
   ],
   "source": [
    "import tika\n",
    "from tika import parser\n",
    "\n",
    "parsed = parser.from_file(\"swiggy-order-39803023548.pdf\")\n",
    "print(parsed)"
   ]
  },
  {
   "cell_type": "code",
   "execution_count": null,
   "metadata": {},
   "outputs": [],
   "source": []
  },
  {
   "cell_type": "code",
   "execution_count": 1,
   "metadata": {},
   "outputs": [
    {
     "name": "stdout",
     "output_type": "stream",
     "text": [
      "{'status': 200, 'content': \"\\n\\n\\n\\n\\n\\n\\n\\n\\n\\n\\n\\n\\n\\n\\n\\n\\n\\n\\n\\n\\n\\n\\n\\n\\n\\n\\n\\n\\n\\n\\n\\n\\n\\n\\n\\n\\nThanks for choosing Swiggy, Hasan! Here are your order details:\\n\\nOrder No: #39803023548\\n\\nOrder placed at: 01/05/2019, 09:53 PM\\n\\nOrder delivered at: 01/05/2019, 10:22 PM\\n\\nOrder Status: Delivered\\n\\nOrdered from:\\n\\nFreshMenu\\n\\nMAH QUDDUS,4th floor,No 2,AGA Abdullah street,Richmond\\n\\nStreet,Johnson Market,Banglore:560025\\n\\nItem Name Quantity Price\\n\\nBaked Margharita Mac 'n' Cheese 1 ₹ 210\\n\\nBBQ Chicken Club Sandwich 1 ₹ 179\\n\\nItem Total: ₹  389\\n\\nGST: ₹  13.61\\n\\nOrder Packing Charges: ₹  17\\n\\nDelivery Charges: ₹  0\\n\\nDiscount Applied (SUPERIT): - ₹  166.7\\n\\nGrand Total: ₹ 253\\n\\nDelivery To:\\n\\nHasan\\n\\nJaaga 5/1, Penthouse 01, 6th Floor, Rich Homes\\n\\nApartment, Richmond Road, Shanthala Nagar,\\n\\nAshok Naga, 6/1, Shanthala Nagar, Richmond\\n\\nTown, Bengaluru, Karnataka 560025, India\\n\\nDisclaimer: This is an acknowledgement of Delivery of the Order and not an actual invoice. Details mentioned above including\\nthe menu prices and taxes (as applicable) are as provided by the Restaurant to Swiggy. Responsibility of charging (or not\\ncharging) taxes lies with the Restaurant and Swiggy disclaims any liability that may arise in this respect.\\n\\n\\n\", 'metadata': {'Content-Type': 'application/pdf', 'Creation-Date': '2019-05-21T12:11:52Z', 'Last-Modified': '2019-05-21T12:11:52Z', 'Last-Save-Date': '2019-05-21T12:11:52Z', 'X-Parsed-By': ['org.apache.tika.parser.DefaultParser', 'org.apache.tika.parser.pdf.PDFParser'], 'X-TIKA:parse_time_millis': '109', 'access_permission:assemble_document': 'true', 'access_permission:can_modify': 'true', 'access_permission:can_print': 'true', 'access_permission:can_print_degraded': 'true', 'access_permission:extract_content': 'true', 'access_permission:extract_for_accessibility': 'true', 'access_permission:fill_in_form': 'true', 'access_permission:modify_annotations': 'true', 'created': '2019-05-21T12:11:52Z', 'date': '2019-05-21T12:11:52Z', 'dc:format': 'application/pdf; version=1.4', 'dcterms:created': '2019-05-21T12:11:52Z', 'dcterms:modified': '2019-05-21T12:11:52Z', 'meta:creation-date': '2019-05-21T12:11:52Z', 'meta:save-date': '2019-05-21T12:11:52Z', 'modified': '2019-05-21T12:11:52Z', 'pdf:PDFVersion': '1.4', 'pdf:docinfo:created': '2019-05-21T12:11:52Z', 'pdf:docinfo:creator_tool': 'Chromium', 'pdf:docinfo:modified': '2019-05-21T12:11:52Z', 'pdf:docinfo:producer': 'Skia/PDF m62', 'pdf:encrypted': 'false', 'producer': 'Skia/PDF m62', 'resourceName': 'swiggy-order-39803023548.pdf', 'xmp:CreatorTool': 'Chromium', 'xmpTPg:NPages': '1'}}\n"
     ]
    }
   ],
   "source": [
    "import tika\n",
    "from tika import parser\n",
    "\n",
    "parsed = parser.from_file(\"swiggy-order-39803023548.pdf\")\n",
    "print(parsed)"
   ]
  },
  {
   "cell_type": "code",
   "execution_count": 2,
   "metadata": {},
   "outputs": [
    {
     "name": "stdout",
     "output_type": "stream",
     "text": [
      "<class 'dict'>\n"
     ]
    }
   ],
   "source": [
    "print(type(parsed))"
   ]
  },
  {
   "cell_type": "code",
   "execution_count": 3,
   "metadata": {},
   "outputs": [
    {
     "name": "stdout",
     "output_type": "stream",
     "text": [
      "\n",
      "\n",
      "\n",
      "\n",
      "\n",
      "\n",
      "\n",
      "\n",
      "\n",
      "\n",
      "\n",
      "\n",
      "\n",
      "\n",
      "\n",
      "\n",
      "\n",
      "\n",
      "\n",
      "\n",
      "\n",
      "\n",
      "\n",
      "\n",
      "\n",
      "\n",
      "\n",
      "\n",
      "\n",
      "\n",
      "\n",
      "\n",
      "\n",
      "\n",
      "\n",
      "\n",
      "\n",
      "Thanks for choosing Swiggy, Hasan! Here are your order details:\n",
      "\n",
      "Order No: #39803023548\n",
      "\n",
      "Order placed at: 01/05/2019, 09:53 PM\n",
      "\n",
      "Order delivered at: 01/05/2019, 10:22 PM\n",
      "\n",
      "Order Status: Delivered\n",
      "\n",
      "Ordered from:\n",
      "\n",
      "FreshMenu\n",
      "\n",
      "MAH QUDDUS,4th floor,No 2,AGA Abdullah street,Richmond\n",
      "\n",
      "Street,Johnson Market,Banglore:560025\n",
      "\n",
      "Item Name Quantity Price\n",
      "\n",
      "Baked Margharita Mac 'n' Cheese 1 ₹ 210\n",
      "\n",
      "BBQ Chicken Club Sandwich 1 ₹ 179\n",
      "\n",
      "Item Total: ₹  389\n",
      "\n",
      "GST: ₹  13.61\n",
      "\n",
      "Order Packing Charges: ₹  17\n",
      "\n",
      "Delivery Charges: ₹  0\n",
      "\n",
      "Discount Applied (SUPERIT): - ₹  166.7\n",
      "\n",
      "Grand Total: ₹ 253\n",
      "\n",
      "Delivery To:\n",
      "\n",
      "Hasan\n",
      "\n",
      "Jaaga 5/1, Penthouse 01, 6th Floor, Rich Homes\n",
      "\n",
      "Apartment, Richmond Road, Shanthala Nagar,\n",
      "\n",
      "Ashok Naga, 6/1, Shanthala Nagar, Richmond\n",
      "\n",
      "Town, Bengaluru, Karnataka 560025, India\n",
      "\n",
      "Disclaimer: This is an acknowledgement of Delivery of the Order and not an actual invoice. Details mentioned above including\n",
      "the menu prices and taxes (as applicable) are as provided by the Restaurant to Swiggy. Responsibility of charging (or not\n",
      "charging) taxes lies with the Restaurant and Swiggy disclaims any liability that may arise in this respect.\n",
      "\n",
      "\n",
      "\n"
     ]
    }
   ],
   "source": [
    "print(parsed['content'])"
   ]
  },
  {
   "cell_type": "code",
   "execution_count": 4,
   "metadata": {},
   "outputs": [
    {
     "name": "stdout",
     "output_type": "stream",
     "text": [
      "<class 'str'>\n"
     ]
    }
   ],
   "source": [
    "print(type(parsed['content']))"
   ]
  },
  {
   "cell_type": "code",
   "execution_count": 22,
   "metadata": {},
   "outputs": [
    {
     "name": "stdout",
     "output_type": "stream",
     "text": [
      "['Thanks for choosing Swiggy, Hasan! Here are your order details:', 'Order No: #39803023548', 'Order placed at: 01/05/2019, 09:53 PM', 'Order delivered at: 01/05/2019, 10:22 PM', 'Order Status: Delivered', 'Ordered from:', 'FreshMenu', 'MAH QUDDUS,4th floor,No 2,AGA Abdullah street,Richmond', 'Street,Johnson Market,Banglore:560025', 'Item Name Quantity Price', \"Baked Margharita Mac 'n' Cheese 1 ₹ 210\", 'BBQ Chicken Club Sandwich 1 ₹ 179', 'Item Total: ₹  389', 'GST: ₹  13.61', 'Order Packing Charges: ₹  17', 'Delivery Charges: ₹  0', 'Discount Applied (SUPERIT): - ₹  166.7', 'Grand Total: ₹ 253', 'Delivery To:', 'Hasan', 'Jaaga 5/1, Penthouse 01, 6th Floor, Rich Homes', 'Apartment, Richmond Road, Shanthala Nagar,', 'Ashok Naga, 6/1, Shanthala Nagar, Richmond', 'Town, Bengaluru, Karnataka 560025, India', 'Disclaimer: This is an acknowledgement of Delivery of the Order and not an actual invoice. Details mentioned above including', 'the menu prices and taxes (as applicable) are as provided by the Restaurant to Swiggy. Responsibility of charging (or not', 'charging) taxes lies with the Restaurant and Swiggy disclaims any liability that may arise in this respect.']\n",
      "{'order_no': '#39803023548', 'order_date': '01/05/2019', 'order_time': '09:53', 'order_am_pm': 'PM', 'order_status': 'Delivered', 'order_price': '389', 'order_gst': '13.61', 'order_packing_charge': '17', 'order_delivery_charge': '0', 'order_total': '253'}\n"
     ]
    }
   ],
   "source": [
    "from parse import parse\n",
    "text_data = parsed['content']\n",
    "splitted_text = text_data.split(\"\\n\")\n",
    "clean_lines = []\n",
    "for line in splitted_text:\n",
    "    if len(line) != 0:\n",
    "        clean_lines.append(line)\n",
    "print(clean_lines)\n",
    "\n",
    "lines = [x for x in splitted_text if len(x) != 0]\n",
    "# print(lines[2])\n",
    "def get_order_details(lines):\n",
    "    # order_no_filter = \"order No:{order_no}\"\n",
    "    order_filter_list = [\"Order No: {order_no}\",\n",
    "                        \"Order placed at: {order_date}, {order_time} {order_am_pm}\",\n",
    "                        \"Order delivered at: {order_d_date}, {order_d_time}, {order_d_am_pm}\",\n",
    "                        \"Order Status: {order_status}\",\n",
    "                        \"Item Total: ₹  {order_price}\",\n",
    "                        \"GST: ₹  {order_gst}\",\n",
    "                        \"Order Packing Charges: ₹  {order_packing_charge}\",\n",
    "                        \"Delivery Charges: ₹  {order_delivery_charge}\",\n",
    "                        \"Grand Total: ₹ {order_total}\"]\n",
    "    order_details = {}\n",
    "    for text_filter in order_filter_list:\n",
    "        for line in lines:\n",
    "            result = parse(text_filter, line)\n",
    "            if result:\n",
    "                order_details.update(result.named)\n",
    "    return order_details\n",
    "\n",
    "order_details = get_order_details(lines)\n",
    "print(order_details)"
   ]
  },
  {
   "cell_type": "code",
   "execution_count": 29,
   "metadata": {},
   "outputs": [
    {
     "name": "stdout",
     "output_type": "stream",
     "text": [
      "Ordered from: Item Name Quantity Price\n",
      "{'place_name': 'FreshMenu', 'place_address': 'MAH QUDDUS,4th floor,No 2,AGA Abdullah street,Richmond Street,Johnson Market,Banglore:560025'}\n"
     ]
    }
   ],
   "source": [
    "starts_with = \"Ordered from:\"\n",
    "ends_with = \"Item Name Quantity Price\"\n",
    "\n",
    "def get_elements_in_between(starts_with, ends_with, lines):\n",
    "    for line in lines:\n",
    "        if line == starts_with:\n",
    "            start_index = lines.index(line)\n",
    "        elif line == ends_with:\n",
    "            end_index = lines.index(line)\n",
    "        else:\n",
    "            pass\n",
    "    result = lines[start_index+1:end_index]\n",
    "    return result\n",
    "    \n",
    "def get_place_details(lines):\n",
    "    place_details = {}\n",
    "    print(starts_with, ends_with)\n",
    "    place_list = get_elements_in_between(starts_with, ends_with, lines)\n",
    "    place_details[\"place_name\"] = place_list[0]\n",
    "    place_details[\"place_address\"] = \" \".join(place_list[1:])\n",
    "\n",
    "    return place_details\n",
    "\n",
    "print(get_place_details(lines))\n"
   ]
  },
  {
   "cell_type": "code",
   "execution_count": null,
   "metadata": {},
   "outputs": [],
   "source": []
  }
 ],
 "metadata": {
  "kernelspec": {
   "display_name": "Python 3",
   "language": "python",
   "name": "python3"
  },
  "language_info": {
   "codemirror_mode": {
    "name": "ipython",
    "version": 3
   },
   "file_extension": ".py",
   "mimetype": "text/x-python",
   "name": "python",
   "nbconvert_exporter": "python",
   "pygments_lexer": "ipython3",
   "version": "3.6.7"
  }
 },
 "nbformat": 4,
 "nbformat_minor": 2
}
