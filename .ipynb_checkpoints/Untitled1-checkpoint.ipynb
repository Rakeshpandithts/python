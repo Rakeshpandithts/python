{
 "cells": [
  {
   "cell_type": "code",
   "execution_count": 4,
   "metadata": {},
   "outputs": [],
   "source": [
    "myself = {\"name\": \"rakesh\",\n",
    "         \"age\": 28,\n",
    "          \"location\": \"bengaluru\"\n",
    "          \"insane\": True\n",
    "         }\n"
   ]
  },
  {
   "cell_type": "code",
   "execution_count": 6,
   "metadata": {},
   "outputs": [],
   "source": [
    "rakesh = {\"name\": \"pandith\",\n",
    "          \"age\": 28,\n",
    "          \"city\": \"Tumkur\",\n",
    "          \"language\": [\"kannada\", \"English\"]\n",
    "}"
   ]
  },
  {
   "cell_type": "code",
   "execution_count": 7,
   "metadata": {},
   "outputs": [],
   "source": [
    "humans = [myself, rakesh]"
   ]
  },
  {
   "cell_type": "code",
   "execution_count": null,
   "metadata": {},
   "outputs": [],
   "source": [
    "for human in humans:\n",
    "    for key, value in human.items():\n",
    "        print(key,value)"
   ]
  },
  {
   "cell_type": "code",
   "execution_count": 26,
   "metadata": {},
   "outputs": [
    {
     "name": "stdout",
     "output_type": "stream",
     "text": [
      "name = asdf\n",
      "age = asdf\n",
      "language = asdf\n",
      "city = adsf\n",
      "insane = asdf\n",
      "coffee = adfs\n",
      "name = asdf\n",
      "age = adfs\n",
      "language = asdf\n",
      "city = asdf\n",
      "insane = asdf\n",
      "coffee = a\n",
      "name = sdf\n",
      "age = asdf\n",
      "language = adsf\n",
      "city = asdf\n",
      "insane = a\n",
      "coffee = dfs\n",
      "[{'name': 'sdf', 'age': 'asdf', 'language': 'adsf', 'city': 'asdf', 'insane': 'a', 'coffee': 'dfs'}, {'name': 'sdf', 'age': 'asdf', 'language': 'adsf', 'city': 'asdf', 'insane': 'a', 'coffee': 'dfs'}, {'name': 'sdf', 'age': 'asdf', 'language': 'adsf', 'city': 'asdf', 'insane': 'a', 'coffee': 'dfs'}]\n"
     ]
    }
   ],
   "source": [
    "userdetails1 = {\n",
    "    \"name\": \"\",\n",
    "    \"age\" : \"\",\n",
    "    \"language\": \"\",\n",
    "    \"city\": \"\",\n",
    "    \"insane\":\"\",\n",
    "    \"coffee\": \"\"\n",
    "}\n",
    "\n",
    "users = []\n",
    "for n in range(3):\n",
    "    for i in userdetails1.keys():\n",
    "            userdetails1[i] = input(f\"{i} = \")\n",
    "    users.append(userdetails1)\n",
    "\n",
    "print(users)"
   ]
  },
  {
   "cell_type": "code",
   "execution_count": null,
   "metadata": {},
   "outputs": [],
   "source": []
  },
  {
   "cell_type": "code",
   "execution_count": null,
   "metadata": {},
   "outputs": [],
   "source": []
  },
  {
   "cell_type": "code",
   "execution_count": 20,
   "metadata": {},
   "outputs": [],
   "source": [
    "alldetails = [userdetails1, userdetails2, userdetails3]"
   ]
  },
  {
   "cell_type": "code",
   "execution_count": 21,
   "metadata": {},
   "outputs": [
    {
     "name": "stdout",
     "output_type": "stream",
     "text": [
      "[{'name': 'rakesh', 'age': '24', 'language': 'kannada', 'city': 'bengaluru', 'insane': 'true', 'coffee': 'yes'}, {'name': 'ruhan', 'age': '20', 'language': 'english', 'city': 'bengaluru', 'insane': 'true', 'coffee': 'yes'}, {'name': 'yuvraj', 'age': '20', 'language': 'kannada', 'city': 'bengaluru', 'insane': 'true', 'coffee': 'yes'}]\n"
     ]
    }
   ],
   "source": [
    "print(alldetails)"
   ]
  },
  {
   "cell_type": "code",
   "execution_count": 22,
   "metadata": {},
   "outputs": [
    {
     "name": "stdout",
     "output_type": "stream",
     "text": [
      "city matched\n"
     ]
    }
   ],
   "source": [
    "if (userdetails1[\"city\"] == userdetails2[\"city\"]):\n",
    "    print('city matched')"
   ]
  },
  {
   "cell_type": "code",
   "execution_count": 23,
   "metadata": {},
   "outputs": [
    {
     "name": "stdout",
     "output_type": "stream",
     "text": [
      "{'bengaluru': []}\n"
     ]
    }
   ],
   "source": [
    "city_wise_filter = {}\n",
    "\n",
    "cities =[]\n",
    "\n",
    "for users in alldetails:\n",
    "    city = users[\"city\"]\n",
    "    cities.append(city)\n",
    "unique_cities = list(set(cities))\n",
    "\n",
    "for city in unique_cities:\n",
    "    city_wise_filter[city] = []\n",
    "print(city_wise_filter)"
   ]
  },
  {
   "cell_type": "code",
   "execution_count": null,
   "metadata": {},
   "outputs": [],
   "source": []
  },
  {
   "cell_type": "code",
   "execution_count": 33,
   "metadata": {},
   "outputs": [
    {
     "name": "stdout",
     "output_type": "stream",
     "text": [
      "name = df\n",
      "age = fg\n",
      "language = fg\n",
      "city = hg\n",
      "insane = \n",
      "coffee = rt\n",
      "name = rt\n",
      "age = ht\n",
      "language = gh\n",
      "city = f\n",
      "insane = gf\n",
      "coffee = gf\n",
      "name = gf\n",
      "age = gf\n",
      "language = gf\n",
      "city = gf\n",
      "insane = gf\n",
      "coffee = g\n",
      "[{'name': 'gf', 'age': 'gf', 'language': 'gf', 'city': 'gf', 'insane': 'gf', 'coffee': 'g'}, {'name': 'gf', 'age': 'gf', 'language': 'gf', 'city': 'gf', 'insane': 'gf', 'coffee': 'g'}, {'name': 'gf', 'age': 'gf', 'language': 'gf', 'city': 'gf', 'insane': 'gf', 'coffee': 'g'}]\n"
     ]
    }
   ],
   "source": [
    "users = []\n",
    "\n",
    "alfrin = {}\n",
    "rakesh ={}\n",
    "hassan = "
   ]
  },
  {
   "cell_type": "code",
   "execution_count": null,
   "metadata": {},
   "outputs": [],
   "source": [
    "asdf"
   ]
  }
 ],
 "metadata": {
  "kernelspec": {
   "display_name": "Python 3",
   "language": "python",
   "name": "python3"
  },
  "language_info": {
   "codemirror_mode": {
    "name": "ipython",
    "version": 3
   },
   "file_extension": ".py",
   "mimetype": "text/x-python",
   "name": "python",
   "nbconvert_exporter": "python",
   "pygments_lexer": "ipython3",
   "version": "3.6.7"
  }
 },
 "nbformat": 4,
 "nbformat_minor": 2
}
